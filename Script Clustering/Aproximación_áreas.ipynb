{
  "nbformat": 4,
  "nbformat_minor": 0,
  "metadata": {
    "colab": {
      "provenance": []
    },
    "kernelspec": {
      "name": "python3",
      "display_name": "Python 3"
    },
    "language_info": {
      "name": "python"
    }
  },
  "cells": [
    {
      "cell_type": "markdown",
      "source": [
        "Primero importaremos las librerías que utilizaremos para procesar la imágenes"
      ],
      "metadata": {
        "id": "e1YV0eqEmcg5"
      }
    },
    {
      "cell_type": "code",
      "execution_count": null,
      "metadata": {
        "id": "Amxx7swwmY0W"
      },
      "outputs": [],
      "source": [
        "# Para visualización:\n",
        "import matplotlib.pyplot as plt\n",
        "# Para manipulación de los pixeles a través de K-means\n",
        "from sklearn.cluster import KMeans\n",
        "# Para trabajar con matrices\n",
        "import numpy as np"
      ]
    },
    {
      "cell_type": "markdown",
      "source": [
        "# Funciones:\n",
        "\n",
        "Desarrollaremos 4 funciones para el proceso de obtener la superficie aproximada:\n",
        "\n",
        "1. Funcion Quitar, esta función la usaremos para eliminar zonas de ruido en las imágenes.\n",
        "\n",
        "2. Función segmentar_imagen_RGB, esta será para generar una matriz con los pixeles segmentados por el método K-means en escala RGB\n",
        "\n",
        "3. Función aproximar_Areas, realiza un proceso similar a la función anterior pero se utilizará para entregar el area en km².\n",
        "\n",
        "4. Función visualizar_aproximaciones, la utilizaremos para visualizar gráficamente la segmentación de las imágenes."
      ],
      "metadata": {
        "id": "CHeMoMzfmx3t"
      }
    },
    {
      "cell_type": "code",
      "source": [
        "def quitar(imagen):\n",
        "    #Elaboramos función para eliminar una sombra que nos genera un mayor ruido en la imagen\n",
        "\n",
        "    x_inicio = 200\n",
        "    x_fin = 403\n",
        "    y_inicio = 273\n",
        "    y_fin = 573\n",
        "\n",
        "    # Creamos una imagen en blanco del mismo tamaño que la original\n",
        "    imagen_blancos = np.copy(imagen)\n",
        "\n",
        "    # Asignamos el color blanco a los píxeles en el rango especificado\n",
        "    imagen_blancos[y_inicio:y_fin, x_inicio:x_fin] = [255, 255, 255]\n",
        "    imagen_blancos[139:273, 249:403]= [255, 255, 255]\n",
        "    imagen_blancos[0:251, 0:71]= [255, 255, 255]\n",
        "    imagen_blancos[100:571, 300:403 ]= [255, 255, 255]\n",
        "    imagen_blancos[300:571,183:403]= [255, 255, 255]\n",
        "    imagen_blancos[547:571, 0:403]= [255, 255, 255]\n",
        "    imagen_blancos[0:23, 0:403]= [255, 255, 255]\n",
        "    imagen_blancos[0:573, 0:20]= [255, 255, 255]\n",
        "    imagen_blancos[0:104, 0:150]= [255, 255, 255]\n",
        "    imagen_blancos[220:571, 205:403]= [255, 255, 255]\n",
        "    #Retornamos la imagen nueva\n",
        "    return imagen_blancos"
      ],
      "metadata": {
        "id": "cwUJl81YoCFq"
      },
      "execution_count": null,
      "outputs": []
    },
    {
      "cell_type": "code",
      "source": [
        "def segmentar_imagen_RGB(ruta_imagen, num_clusters, colores_cluster):\n",
        "    # Definimos una función para realizar la matriz de pixeles por K-medias en escala RGB\n",
        "\n",
        "    # Cargamos la imagen\n",
        "    imagen = plt.imread(ruta_imagen)\n",
        "\n",
        "    # Obtenenos las dimensiones de la imagen\n",
        "    alto, ancho, _ = imagen.shape\n",
        "\n",
        "    # Convertimos la imagen en una matriz de píxeles\n",
        "    # Primero debemos recortar la imagen\n",
        "    imagen2 = quitar(imagen)\n",
        "    matriz_pixels = imagen2.reshape(-1, 3)\n",
        "\n",
        "    # Realizamos la segmentación por pixeles por K-medias\n",
        "    kmeans = KMeans(n_clusters=num_clusters, n_init=10)\n",
        "    kmeans.fit(matriz_pixels)\n",
        "\n",
        "    # Tamaño del cluster con mayor cantidad de píxeles\n",
        "    frecuencias = np.bincount(kmeans.labels_)\n",
        "    cluster_mas_grande = np.argmax(frecuencias)\n",
        "    frecuencias[cluster_mas_grande] = 0\n",
        "    segundo_cluster_mas_grande = np.argmax(frecuencias)\n",
        "    mascara = (kmeans.labels_ == segundo_cluster_mas_grande)\n",
        "    mascara = mascara.reshape(alto, ancho)\n",
        "\n",
        "\n",
        "    # Asignamos colores RGB a la imagen ya segmentada\n",
        "    imagen_nueva = colores_cluster[kmeans.labels_].reshape(alto, ancho, 3)\n",
        "\n",
        "    # Creamos una nueva imagen dejando todo lo diferente al Lago en Blanco\n",
        "    imagen_nueva2 = imagen_nueva.copy()\n",
        "    imagen_nueva2[~mascara] = [255, 255, 255]  # Establecemos los píxeles no deseados en blanco\n",
        "    return imagen_nueva2"
      ],
      "metadata": {
        "id": "Szpr-lsYoIwq"
      },
      "execution_count": null,
      "outputs": []
    },
    {
      "cell_type": "code",
      "source": [
        "def aproximar_areas(ruta_imagen, num_clusters):\n",
        "    # Creamos función similar a la anterior, sin embargo en esta se retornara el area aproximada del lago\n",
        "    # Cargamos la imagen\n",
        "    imagen = plt.imread(ruta_imagen)\n",
        "\n",
        "    # Obtenemos las dimensiones de la imagen\n",
        "    alto, ancho, _ = imagen.shape\n",
        "\n",
        "    # Convertimos la imagen en una matriz de píxeles\n",
        "    # Primero debemos recortar la imagen\n",
        "    imagen2 = quitar(imagen)\n",
        "    matriz_pixels = imagen2.reshape(-1, 3)\n",
        "\n",
        "\n",
        "    # Realizamos la segmentación por K-medias\n",
        "    kmeans = KMeans(n_clusters=num_clusters, n_init=10)\n",
        "    kmeans.fit(matriz_pixels)\n",
        "\n",
        "    # Calculamos el tamaño del cluster más grande\n",
        "    frecuencias = np.bincount(kmeans.labels_)\n",
        "    cluster_mas_grande = np.argmax(frecuencias)\n",
        "    frecuencias[cluster_mas_grande] = 0\n",
        "    segundo_cluster_mas_grande = np.argmax(frecuencias)\n",
        "    tamaño_lago_Caburgua_en_pixel = np.sum(kmeans.labels_ == segundo_cluster_mas_grande)\n",
        "\n",
        "    # Calculamos las medidas pixel en km\n",
        "    ancho_imagen= 17.33 #ancho en km de la imagen\n",
        "    alto_imagen= 12.79 #alto en km de la imagen\n",
        "    area_imagen = ancho_imagen* alto_imagen # Corresponde al área de cada pixel en km²\n",
        "    total_pixeles = ancho*alto\n",
        "    tamaño_lago_Caburgua = area_imagen*tamaño_lago_Caburgua_en_pixel/total_pixeles\n",
        "\n",
        "    # Imprimimos  la superficie del lago en metros cuadrados\n",
        "    print(f\"[{i+1}] Superficie del lago en km²:\", tamaño_lago_Caburgua, \"(\", tamaño_lago_Caburgua_en_pixel,\"pixeles)\")\n",
        "\n",
        "    # Retornamos el tamaño del lago\n",
        "    return tamaño_lago_Caburgua\n"
      ],
      "metadata": {
        "id": "tGhwdhttoKKt"
      },
      "execution_count": null,
      "outputs": []
    },
    {
      "cell_type": "code",
      "source": [
        "def visualizar_aproximaciones(imagenes):\n",
        "    # Creamos una funcion para visualizar todas las aproximaciones\n",
        "    plt.figure(figsize=(12, 6))  # Establecemos el tamaño del gráfico\n",
        "\n",
        "    for k, imagen in enumerate(imagenes):\n",
        "        plt.subplot(3, 5, k + 1)  # Creamos una cuadrícula de subgráficos de 3 filas y 5 columnas\n",
        "        plt.imshow(imagen)\n",
        "        plt.title(f'Iteración {k + 1}')\n",
        "        plt.axis('off')\n",
        "\n",
        "    plt.tight_layout()  # Ajustamos el diseño de los subgráficos\n",
        "    plt.show() # Mostramos el gráfico completo"
      ],
      "metadata": {
        "id": "J2ZnSkvPoN-F"
      },
      "execution_count": null,
      "outputs": []
    },
    {
      "cell_type": "markdown",
      "source": [
        "Importamos las imágenes y asigmanos la cantidad de clusters:"
      ],
      "metadata": {
        "id": "hMlMcxFIoRxN"
      }
    },
    {
      "cell_type": "code",
      "source": [
        "rutas = [\n",
        "    \"/content/1984.jpeg\", \"/content/1985.jpeg\", \"/content/1986.jpeg\",\n",
        "    \"/content/1987.jpeg\", \"/content/1988.jpeg\", \"/content/1989.jpeg\",\n",
        "    \"/content/1990.jpeg\", \"/content/1991.jpeg\", \"/content/1992.jpeg\",\n",
        "    \"/content/1993.jpeg\", \"/content/1994.jpeg\", \"/content/1995.jpeg\",\n",
        "    \"/content/1996.jpeg\", \"/content/1997.jpeg\", \"/content/1998.jpeg\",\n",
        "    \"/content/1999.jpeg\", \"/content/2000.jpeg\", \"/content/2001.jpeg\",\n",
        "    \"/content/2002.jpeg\", \"/content/2003.jpeg\", \"/content/2004.jpeg\",\n",
        "    \"/content/2005.jpeg\", \"/content/2006.jpeg\", \"/content/2007.jpeg\",\n",
        "    \"/content/2008.jpeg\", \"/content/2009.jpeg\", \"/content/2010.jpeg\",\n",
        "    \"/content/2011.jpeg\", \"/content/2012.jpeg\", \"/content/2013.jpeg\",\n",
        "    \"/content/2014.jpeg\", \"/content/2015.jpeg\", \"/content/2016.jpeg\",\n",
        "    \"/content/2017.jpeg\", \"/content/2018.jpeg\", \"/content/2019.jpeg\",\n",
        "    \"/content/2020.jpeg\", \"/content/2021.jpeg\", \"/content/2022.jpeg\"\n",
        "]\n",
        "\n",
        "\n",
        "num_clusters = 5"
      ],
      "metadata": {
        "id": "c23cMeXaoRGw"
      },
      "execution_count": null,
      "outputs": []
    },
    {
      "cell_type": "markdown",
      "source": [
        "Este código hara 15 iteraciones por imágen y seleccionara la mediana de las superficies aproximadas para asignar el valor aproximado para cada año."
      ],
      "metadata": {
        "id": "8HvfkD42pom-"
      }
    },
    {
      "cell_type": "code",
      "source": [
        "# Realizamos múltiples iteraciones y almacenamos los resultados\n",
        "np.random.seed(47)\n",
        "colores_centroides=np.random.randint(0, 256, size=(num_clusters, 3))\n",
        "iteraciones_pedidas = 15\n",
        "medidas = [] # Lista vacia para almacenar las aproximaciones de las áreas\n",
        "imagenes = [] # Lista vacía para almacenar los gráficos aproximados\n",
        "aproximaciones = []\n",
        "\n",
        "for j in range(len(rutas)):\n",
        "    ruta_imagen= rutas[j]\n",
        "    for i in range(iteraciones_pedidas):\n",
        "        #Aplicamos las funciones\n",
        "        imagen_segmentada = segmentar_imagen_RGB(ruta_imagen, num_clusters, colores_centroides)\n",
        "        imagenes.append(imagen_segmentada)\n",
        "        medidas.append(aproximar_areas(ruta_imagen, num_clusters))\n",
        "\n",
        "    visualizar_aproximaciones(imagenes)\n",
        "    imagenes=[]\n",
        "\n",
        "    # Calculamos la mediana de las medidas obtenidas\n",
        "    Area = np.median(medidas)\n",
        "    medidas=[]\n",
        "    aproximaciones.append(Area)\n",
        "\n",
        "    # Imprimimos el resultado final\n",
        "    print(f\"Área aproximada del lago en kilómetros cuadrados:\", Area)"
      ],
      "metadata": {
        "id": "nb7qd719DWeK"
      },
      "execution_count": null,
      "outputs": []
    },
    {
      "cell_type": "markdown",
      "source": [
        "Mostrar todas las aproximaciones:"
      ],
      "metadata": {
        "id": "3yjnkNNpp2OH"
      }
    },
    {
      "cell_type": "code",
      "source": [
        "print(aproximaciones)"
      ],
      "metadata": {
        "id": "6c67PIvPDY1v"
      },
      "execution_count": null,
      "outputs": []
    }
  ]
}